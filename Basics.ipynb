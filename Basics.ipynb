{
  "nbformat": 4,
  "nbformat_minor": 0,
  "metadata": {
    "colab": {
      "provenance": [],
      "authorship_tag": "ABX9TyMKTZHxG+Iyji/WA3OD2l+G",
      "include_colab_link": true
    },
    "kernelspec": {
      "name": "python3",
      "display_name": "Python 3"
    },
    "language_info": {
      "name": "python"
    }
  },
  "cells": [
    {
      "cell_type": "markdown",
      "metadata": {
        "id": "view-in-github",
        "colab_type": "text"
      },
      "source": [
        "<a href=\"https://colab.research.google.com/github/venkatchm/PythonLearning/blob/main/Basics.ipynb\" target=\"_parent\"><img src=\"https://colab.research.google.com/assets/colab-badge.svg\" alt=\"Open In Colab\"/></a>"
      ]
    },
    {
      "cell_type": "code",
      "execution_count": 2,
      "metadata": {
        "colab": {
          "base_uri": "https://localhost:8080/"
        },
        "id": "6_Yv5aiZXPQ3",
        "outputId": "8fec9dd5-7615-4745-cfdf-b0ff77a0459c"
      },
      "outputs": [
        {
          "output_type": "stream",
          "name": "stdout",
          "text": [
            "Venkatachalam 34\n"
          ]
        }
      ],
      "source": [
        "#types\n",
        "\n",
        "name = 'Venkatachalam'\n",
        "\n",
        "age = 34\n",
        "\n",
        "print(name, age)"
      ]
    },
    {
      "cell_type": "code",
      "source": [
        "#str\n",
        "text: str = 'string'\n",
        "number: int = 28\n",
        "decimal: float = 29.9\n",
        "boolean: bool = True\n",
        "\n",
        "names: list = [20, 23, 24, 25]\n",
        "mytuple: tuple = (age, 34)\n",
        "myList: list = {90, 92, 94} #which syntax is correct?\n",
        "uniqueset: set = {20, 20, 23, 23} #if I use [] brackets, it is taking it as list or array\n",
        "myDictionary: dict = {'age': 34, 'name' : 'venkatachalam'}\n",
        "\n",
        "# use [] for list & {} dictionary and set\n",
        "# list is ordered and mutatale, {} key should be unique and unordered\n",
        "print(text, number, decimal, boolean, names, mytuple, myList, uniqueset, myDictionary)\n"
      ],
      "metadata": {
        "colab": {
          "base_uri": "https://localhost:8080/"
        },
        "id": "bJexeB4YXver",
        "outputId": "d87259c8-c86d-472f-b7de-8a47906eacfc"
      },
      "execution_count": 7,
      "outputs": [
        {
          "output_type": "stream",
          "name": "stdout",
          "text": [
            "string 28 29.9 True [20, 23, 24, 25] (34, 34) {90, 92, 94} {20, 23} {'age': 34, 'name': 'venkatachalam'}\n"
          ]
        }
      ]
    }
  ]
}