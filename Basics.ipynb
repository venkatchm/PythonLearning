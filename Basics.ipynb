{
  "cells": [
    {
      "cell_type": "code",
      "execution_count": 2,
      "metadata": {
        "colab": {
          "base_uri": "https://localhost:8080/"
        },
        "id": "6_Yv5aiZXPQ3",
        "outputId": "8fec9dd5-7615-4745-cfdf-b0ff77a0459c"
      },
      "outputs": [
        {
          "name": "stdout",
          "output_type": "stream",
          "text": [
            "Venkatachalam 34\n"
          ]
        }
      ],
      "source": [
        "#types\n",
        "\n",
        "name = 'Venkatachalam'\n",
        "\n",
        "age = 34\n",
        "\n",
        "print(name, age)"
      ]
    },
    {
      "cell_type": "code",
      "execution_count": 9,
      "metadata": {
        "colab": {
          "base_uri": "https://localhost:8080/"
        },
        "id": "bJexeB4YXver",
        "outputId": "3bd6bc54-a5c4-47d8-87a7-7c7054074bf2"
      },
      "outputs": [
        {
          "name": "stdout",
          "output_type": "stream",
          "text": [
            "string 28 29.9 True [20, 23, 24, 25] ('ve', 34) {90, 92, 94} {20, 23} {'age': 34, 'name': 'venkatachalam'}\n"
          ]
        }
      ],
      "source": [
        "#str\n",
        "text: str = 'string'\n",
        "number: int = 28\n",
        "decimal: float = 29.9\n",
        "boolean: bool = True\n",
        "\n",
        "names: list = [20, 23, 24, 25]\n",
        "mytuple: tuple = ('ve', 34)\n",
        "myList: list = {90, 92, 94} #which syntax is correct?\n",
        "uniqueset: set = {20, 20, 23, 23} #if I use [] brackets, it is taking it as list or array\n",
        "myDictionary: dict = {'age': 34, 'name' : 'venkatachalam'}\n",
        "\n",
        "# use [] for list & {} dictionary and set\n",
        "# list is ordered and mutatale, {} key should be unique and unordered\n",
        "print(text, number, decimal, boolean, names, mytuple, myList, uniqueset, myDictionary)\n",
        "\n",
        "#type annotation\n",
        "number1: int = 3\n",
        "number2: int = 'venkat'\n",
        "# eventhough I assigned str to number2, it is still executes.\n",
        "\n",
        "#tupe is ordered, IMMUTATABLE, Heterogeneous"
      ]
    },
    {
      "cell_type": "code",
      "execution_count": null,
      "metadata": {
        "id": "DDGqpJVOaNF6"
      },
      "outputs": [],
      "source": []
    }
  ],
  "metadata": {
    "colab": {
      "authorship_tag": "ABX9TyP1d7EA0ir3LyLmtAwaV9PH",
      "provenance": []
    },
    "kernelspec": {
      "display_name": "Python 3",
      "name": "python3"
    },
    "language_info": {
      "name": "python",
      "version": "3.9.6"
    }
  },
  "nbformat": 4,
  "nbformat_minor": 0
}
